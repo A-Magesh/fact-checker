{
  "cells": [
    {
      "cell_type": "code",
      "source": [
        "!pip install newsapi\n",
        "!pip install newsapi-python\n",
        "!pip install nltk"
      ],
      "metadata": {
        "colab": {
          "base_uri": "https://localhost:8080/"
        },
        "id": "lUna7bWsA4n6",
        "outputId": "8da4c93a-2618-4cf8-b177-361f0b0b96a0"
      },
      "execution_count": null,
      "outputs": [
        {
          "output_type": "stream",
          "name": "stdout",
          "text": [
            "Collecting newsapi\n",
            "  Downloading newsapi-0.1.1-py2.py3-none-any.whl (4.1 kB)\n",
            "Requirement already satisfied: requests in /usr/local/lib/python3.10/dist-packages (from newsapi) (2.31.0)\n",
            "Requirement already satisfied: charset-normalizer<4,>=2 in /usr/local/lib/python3.10/dist-packages (from requests->newsapi) (3.3.2)\n",
            "Requirement already satisfied: idna<4,>=2.5 in /usr/local/lib/python3.10/dist-packages (from requests->newsapi) (3.7)\n",
            "Requirement already satisfied: urllib3<3,>=1.21.1 in /usr/local/lib/python3.10/dist-packages (from requests->newsapi) (2.0.7)\n",
            "Requirement already satisfied: certifi>=2017.4.17 in /usr/local/lib/python3.10/dist-packages (from requests->newsapi) (2024.2.2)\n"
          ]
        }
      ]
    },
    {
      "cell_type": "markdown",
      "source": [],
      "metadata": {
        "id": "JU6OIWzfWaq0"
      }
    },
    {
      "cell_type": "code",
      "source": [],
      "metadata": {
        "id": "qWhtQ61rWb0I"
      },
      "execution_count": null,
      "outputs": []
    },
    {
      "cell_type": "markdown",
      "source": [],
      "metadata": {
        "id": "lmmpn050WcSk"
      }
    },
    {
      "cell_type": "code",
      "execution_count": 6,
      "metadata": {
        "colab": {
          "base_uri": "https://localhost:8080/"
        },
        "id": "y7pNGheWAgpd",
        "outputId": "c5cd3d5b-cf50-4573-873b-996d46177469"
      },
      "outputs": [
        {
          "output_type": "stream",
          "name": "stdout",
          "text": [
            "The news is REAL\n",
            "Wired\n",
            "While both Alphabet and Microsoft boasted strong earnings, only one tech giant showed that its generative AI bet is starting to pay off.\n"
          ]
        }
      ],
      "source": [
        "#without wordcount\n",
        "\n",
        "from newsapi import NewsApiClient\n",
        "\n",
        "source1 = []\n",
        "description1 = []\n",
        "newsapi = NewsApiClient(api_key='cc8998f479954041b5f845f0b4491050')\n",
        "news_sources = newsapi.get_sources()\n",
        "\n",
        "sources_list = ['ABC News','BBC News','Wired','ABC News (AU)','BBC Sport','Bloomberg','Business Insider','Business Insider (UK)','Buzzfeed','CBC News','CBS News','CNN','ESPN','Fox News','Google News','Google News (India)','Google News (UK)','Google News (Australia)','IGN','The Times of India','The Wall Street Journal','The Washington Times','TechCrunch','The Hindu']\n",
        "\n",
        "query = 'satya nadella is ceo of microsoft'\n",
        "\n",
        "all_articles = newsapi.get_everything(q = query,sort_by= 'relevancy', language = 'en')\n",
        "for article in all_articles['articles']:\n",
        "    source1.append(article['source']['name'])\n",
        "    description1.append(article['description'])\n",
        "\n",
        "check =  any(item in source1 for item in sources_list)\n",
        "\n",
        "if((all_articles['articles'] == []) or (check == False)):\n",
        "    print(\"The news is FAKE\")\n",
        "if(check == True):\n",
        "    print('The news is REAL')\n",
        "    print(source1[0])\n",
        "    print(description1[0])\n"
      ]
    },
    {
      "cell_type": "code",
      "execution_count": null,
      "metadata": {
        "colab": {
          "base_uri": "https://localhost:8080/"
        },
        "id": "9dJhCd4qAgpj",
        "outputId": "8d167e95-47e2-474a-ef18-8083f9d15216"
      },
      "outputs": [
        {
          "output_type": "stream",
          "name": "stderr",
          "text": [
            "[nltk_data] Downloading package punkt to /root/nltk_data...\n",
            "[nltk_data]   Package punkt is already up-to-date!\n",
            "[nltk_data] Downloading package stopwords to /root/nltk_data...\n",
            "[nltk_data]   Package stopwords is already up-to-date!\n"
          ]
        },
        {
          "output_type": "stream",
          "name": "stdout",
          "text": [
            "Wired\n",
            "While both Alphabet and Microsoft boasted strong earnings, only one tech giant showed that its generative AI bet is starting to pay off.\n"
          ]
        }
      ],
      "source": []
    },
    {
      "cell_type": "code",
      "execution_count": null,
      "metadata": {
        "id": "JhCRdc8yAgpk"
      },
      "outputs": [],
      "source": []
    }
  ],
  "metadata": {
    "kernelspec": {
      "display_name": "Python 3",
      "language": "python",
      "name": "python3"
    },
    "language_info": {
      "codemirror_mode": {
        "name": "ipython",
        "version": 3
      },
      "file_extension": ".py",
      "mimetype": "text/x-python",
      "name": "python",
      "nbconvert_exporter": "python",
      "pygments_lexer": "ipython3",
      "version": "3.7.6"
    },
    "colab": {
      "provenance": []
    }
  },
  "nbformat": 4,
  "nbformat_minor": 0
}